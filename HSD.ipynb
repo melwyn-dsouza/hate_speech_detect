{
  "nbformat": 4,
  "nbformat_minor": 0,
  "metadata": {
    "colab": {
      "provenance": [],
      "toc_visible": true
    },
    "kernelspec": {
      "name": "python3",
      "display_name": "Python 3"
    },
    "language_info": {
      "name": "python"
    }
  },
  "cells": [
    {
      "cell_type": "markdown",
      "source": [
        "#Hate Speech Detection (BERT) and Topic Modelling (BERTopic)"
      ],
      "metadata": {
        "id": "DFCtzcsxjeii"
      }
    },
    {
      "cell_type": "markdown",
      "source": [
        "Data Pre-Processing\n",
        "\n",
        "The data is collected from 5 differnent online sources, the data is all the tweets from differnt users all over the world, this data is not configured (some files have multiilabelled data, some are labeled with sentiments etc) the way I want it for my HSD model, so the data has to be firstly made into two columns\n",
        "1.   Tweets (string format)\n",
        "2.   Lable - Hate/Non-Hate\n",
        "\n",
        "\n",
        "\n"
      ],
      "metadata": {
        "id": "ZeycscZZpnOO"
      }
    },
    {
      "cell_type": "code",
      "execution_count": null,
      "metadata": {
        "id": "nJgDQrsajd6H"
      },
      "outputs": [],
      "source": []
    }
  ]
}